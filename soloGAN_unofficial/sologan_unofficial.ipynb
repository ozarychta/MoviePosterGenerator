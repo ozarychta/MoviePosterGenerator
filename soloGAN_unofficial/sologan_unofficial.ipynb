{
  "nbformat": 4,
  "nbformat_minor": 0,
  "metadata": {
    "colab": {
      "name": "sologan_unofficial.ipynb",
      "provenance": [],
      "collapsed_sections": []
    },
    "kernelspec": {
      "name": "python3",
      "display_name": "Python 3"
    },
    "language_info": {
      "name": "python"
    },
    "accelerator": "GPU"
  },
  "cells": [
    {
      "cell_type": "code",
      "source": [
        "from google.colab import drive\n",
        "drive.mount('/content/drive')"
      ],
      "metadata": {
        "id": "b_yzd4jo5zaQ",
        "colab": {
          "base_uri": "https://localhost:8080/"
        },
        "outputId": "2e1ea291-5c06-472f-88a0-63a682558e1b"
      },
      "execution_count": null,
      "outputs": [
        {
          "output_type": "stream",
          "name": "stdout",
          "text": [
            "Mounted at /content/drive\n"
          ]
        }
      ]
    },
    {
      "cell_type": "code",
      "source": [
        "!pip install -q condacolab\n",
        "import condacolab\n",
        "condacolab.install()"
      ],
      "metadata": {
        "colab": {
          "base_uri": "https://localhost:8080/"
        },
        "id": "VE49FZFIVEQM",
        "outputId": "ea7bb044-c6b0-41dd-86dd-0e6ff0d2044c"
      },
      "execution_count": null,
      "outputs": [
        {
          "output_type": "stream",
          "name": "stdout",
          "text": [
            "✨🍰✨ Everything looks OK!\n"
          ]
        }
      ]
    },
    {
      "cell_type": "code",
      "source": [
        "!conda install -c conda-forge ezc3d"
      ],
      "metadata": {
        "colab": {
          "base_uri": "https://localhost:8080/"
        },
        "id": "5hOmdQfuVj25",
        "outputId": "58b07e72-eafb-4cc3-f49f-41b3c7e4d5a3"
      },
      "execution_count": null,
      "outputs": [
        {
          "output_type": "stream",
          "name": "stdout",
          "text": [
            "Collecting package metadata (current_repodata.json): - \b\b\\ \b\b| \b\b/ \b\b- \b\b\\ \b\b| \b\b/ \b\b- \b\b\\ \b\b| \b\b/ \b\b- \b\b\\ \b\b| \b\b/ \b\b- \b\b\\ \b\b| \b\b/ \b\b- \b\b\\ \b\b| \b\b/ \b\b- \b\b\\ \b\b| \b\bdone\n",
            "Solving environment: - \b\b\\ \b\b| \b\b/ \b\b- \b\b\\ \b\b| \b\b/ \b\b- \b\b\\ \b\b| \b\b/ \b\b- \b\b\\ \b\b| \b\b/ \b\b- \b\b\\ \b\b| \b\b/ \b\b- \b\b\\ \b\b| \b\b/ \b\b- \b\b\\ \b\b| \b\b/ \b\bdone\n",
            "\n",
            "# All requested packages already installed.\n",
            "\n"
          ]
        }
      ]
    },
    {
      "cell_type": "code",
      "source": [
        "!pip install torch torchvision pyyaml tensorboardX"
      ],
      "metadata": {
        "colab": {
          "base_uri": "https://localhost:8080/"
        },
        "id": "8GfAjpWhWEPi",
        "outputId": "5b33ffa2-be61-421f-8d73-55ba8a0e792d"
      },
      "execution_count": null,
      "outputs": [
        {
          "output_type": "stream",
          "name": "stdout",
          "text": [
            "Looking in indexes: https://pypi.org/simple, https://us-python.pkg.dev/colab-wheels/public/simple/\n",
            "Requirement already satisfied: torch in /usr/local/lib/python3.7/site-packages (1.11.0)\n",
            "Requirement already satisfied: torchvision in /usr/local/lib/python3.7/site-packages (0.12.0)\n",
            "Requirement already satisfied: pyyaml in /usr/local/lib/python3.7/site-packages (6.0)\n",
            "Requirement already satisfied: tensorboardX in /usr/local/lib/python3.7/site-packages (2.5.1)\n",
            "Requirement already satisfied: numpy in /usr/local/lib/python3.7/site-packages (from tensorboardX) (1.21.6)\n",
            "Requirement already satisfied: protobuf<=3.20.1,>=3.8.0 in /usr/local/lib/python3.7/site-packages (from tensorboardX) (3.19.0)\n",
            "Requirement already satisfied: typing-extensions in /usr/local/lib/python3.7/site-packages (from torch) (4.2.0)\n",
            "Requirement already satisfied: pillow!=8.3.*,>=5.3.0 in /usr/local/lib/python3.7/site-packages (from torchvision) (9.1.1)\n",
            "Requirement already satisfied: requests in /usr/local/lib/python3.7/site-packages (from torchvision) (2.25.1)\n",
            "Requirement already satisfied: chardet<5,>=3.0.2 in /usr/local/lib/python3.7/site-packages (from requests->torchvision) (4.0.0)\n",
            "Requirement already satisfied: idna<3,>=2.5 in /usr/local/lib/python3.7/site-packages (from requests->torchvision) (2.10)\n",
            "Requirement already satisfied: certifi>=2017.4.17 in /usr/local/lib/python3.7/site-packages (from requests->torchvision) (2022.6.15)\n",
            "Requirement already satisfied: urllib3<1.27,>=1.21.1 in /usr/local/lib/python3.7/site-packages (from requests->torchvision) (1.26.3)\n"
          ]
        }
      ]
    },
    {
      "cell_type": "code",
      "source": [
        "!pip install protobuf==3.19.0"
      ],
      "metadata": {
        "colab": {
          "base_uri": "https://localhost:8080/"
        },
        "id": "M7ZAkfkvCJoU",
        "outputId": "d520c504-c850-49e4-d3c4-366816e0ee37"
      },
      "execution_count": null,
      "outputs": [
        {
          "output_type": "stream",
          "name": "stdout",
          "text": [
            "Looking in indexes: https://pypi.org/simple, https://us-python.pkg.dev/colab-wheels/public/simple/\n",
            "Requirement already satisfied: protobuf==3.19.0 in /usr/local/lib/python3.7/site-packages (3.19.0)\n"
          ]
        }
      ]
    },
    {
      "cell_type": "code",
      "execution_count": null,
      "metadata": {
        "colab": {
          "base_uri": "https://localhost:8080/"
        },
        "id": "XF-DLV4QN9Fm",
        "outputId": "adc51025-442c-4360-d1b6-66a6599cbfc9"
      },
      "outputs": [
        {
          "output_type": "stream",
          "name": "stdout",
          "text": [
            "\n",
            "--- load dataset ---\n",
            "/usr/local/lib/python3.7/site-packages/torchvision/transforms/transforms.py:333: UserWarning: Argument interpolation should be of type InterpolationMode instead of int. Please, use InterpolationMode enum.\n",
            "  \"Argument interpolation should be of type InterpolationMode instead of int. \"\n",
            "/usr/local/lib/python3.7/site-packages/torch/utils/data/dataloader.py:490: UserWarning: This DataLoader will create 4 worker processes in total. Our suggested max number of worker in current system is 2, which is smaller than what this DataLoader is going to create. Please be aware that excessive worker creation might get DataLoader running slow or even freeze, lower the worker number to avoid potential slowness/freeze if necessary.\n",
            "  cpuset_checked))\n",
            "\n",
            "--- load model ---\n",
            "Traceback (most recent call last):\n",
            "  File \"/content/drive/MyDrive/soloGAN/SoloGAN/train.py\", line 107, in <module>\n",
            "    main()\n",
            "  File \"/content/drive/MyDrive/soloGAN/SoloGAN/train.py\", line 36, in main\n",
            "    ep0, total_it,lr = model.resume(opt.resume)\n",
            "  File \"/content/drive/MyDrive/soloGAN/SoloGAN/trainer.py\", line 186, in resume\n",
            "    self.dis.load_state_dict(checkpoint['dis'])\n",
            "  File \"/usr/local/lib/python3.7/site-packages/torch/nn/modules/module.py\", line 1498, in load_state_dict\n",
            "    self.__class__.__name__, \"\\n\\t\".join(error_msgs)))\n",
            "RuntimeError: Error(s) in loading state_dict for Discreminator:\n",
            "\tsize mismatch for embed.weight: copying a param with shape torch.Size([2, 1024]) from checkpoint, the shape in current model is torch.Size([3, 1024]).\n",
            "\tsize mismatch for conv2.1.conv.bias: copying a param with shape torch.Size([2]) from checkpoint, the shape in current model is torch.Size([3]).\n",
            "\tsize mismatch for conv2.1.conv.weight_orig: copying a param with shape torch.Size([2, 2048, 4, 4]) from checkpoint, the shape in current model is torch.Size([3, 2048, 4, 4]).\n",
            "\tsize mismatch for conv2.1.conv.weight_u: copying a param with shape torch.Size([2]) from checkpoint, the shape in current model is torch.Size([3]).\n"
          ]
        }
      ],
      "source": [
        "!python /content/drive/MyDrive/soloGAN/SoloGAN/train.py --resume /content/drive/MyDrive/00095.pth\n",
        "# !python /content/drive/MyDrive/soloGAN/SoloGAN/train.py"
      ]
    },
    {
      "cell_type": "code",
      "source": [
        "!python /content/drive/MyDrive/soloGAN/SoloGAN/test.py --checkpoint /content/drive/MyDrive/00095.pth"
      ],
      "metadata": {
        "colab": {
          "base_uri": "https://localhost:8080/"
        },
        "id": "wNZRpCgMKhiK",
        "outputId": "e1ff80a0-4df7-48b0-8b6c-20250b6bd8ce"
      },
      "execution_count": null,
      "outputs": [
        {
          "output_type": "stream",
          "name": "stdout",
          "text": [
            "Traceback (most recent call last):\n",
            "  File \"/content/drive/MyDrive/soloGAN/SoloGAN/test.py\", line 7, in <module>\n",
            "    from trainer import MUNIT_Trainer, UNIT_Trainer\n",
            "ImportError: cannot import name 'MUNIT_Trainer' from 'trainer' (/content/drive/MyDrive/soloGAN/SoloGAN/trainer.py)\n"
          ]
        }
      ]
    }
  ]
}